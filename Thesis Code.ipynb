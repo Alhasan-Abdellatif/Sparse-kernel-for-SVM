{
 "cells": [
  {
   "cell_type": "markdown",
   "metadata": {},
   "source": [
    " ## Loading Libraries "
   ]
  },
  {
   "cell_type": "code",
   "execution_count": 1,
   "metadata": {},
   "outputs": [],
   "source": [
    "import numpy as np\n",
    "import math\n",
    "import time\n",
    "from sklearn.svm import SVC,LinearSVC\n",
    "from sklearn.model_selection import train_test_split\n",
    "from sklearn.preprocessing import StandardScaler\n",
    "from sklearn.metrics import accuracy_score,f1_score,confusion_matrix\n",
    "from scipy.sparse import csc_matrix,lil_matrix,csr_matrix,bsr_matrix,diags,coo_matrix,dok_matrix\n",
    "from scipy.sparse.linalg import spsolve_triangular,spsolve\n",
    "from sksparse.cholmod import cholesky\n",
    "from sklearn.datasets import load_svmlight_file\n",
    "from sklearn.datasets.samples_generator import make_swiss_roll\n",
    "%load_ext Cython"
   ]
  },
  {
   "cell_type": "markdown",
   "metadata": {},
   "source": [
    "## Reading data"
   ]
  },
  {
   "cell_type": "markdown",
   "metadata": {},
   "source": [
    "### 1- Reading datasets in txt format "
   ]
  },
  {
   "cell_type": "code",
   "execution_count": 13,
   "metadata": {},
   "outputs": [],
   "source": [
    "X = np.loadtxt('skin.txt', skiprows=1)\n",
    "\n",
    "#splitting\n",
    "n_train = 108783\n",
    "x_tr = X[:n_train,:-1]\n",
    "y_tr = X[:n_train,-1]\n",
    "x_tes = X[n_train:,:-1]\n",
    "y_tes = X[n_train:,-1]\n"
   ]
  },
  {
   "cell_type": "markdown",
   "metadata": {},
   "source": [
    "### 2- Reading datasets in LibSVM format"
   ]
  },
  {
   "cell_type": "code",
   "execution_count": 6,
   "metadata": {},
   "outputs": [],
   "source": [
    "#x_tr,y_tr = load_svmlight_file(\"covtype.libsvm.binary.scale (1)\")\n",
    "#x_tr, x_tes, y_tr, y_tes = train_test_split(\n",
    "#    x_tr, y_tr, test_size=0.33, random_state=88)\n",
    "\n",
    "x_tr,y_tr = load_svmlight_file(\"shuttle.scale.txt\")\n",
    "x_tes,y_tes = load_svmlight_file(\"shuttle.scale.t\")\n",
    "x_tes = x_tes.toarray()\n",
    "x_tr = x_tr.toarray()\n",
    "\n"
   ]
  },
  {
   "cell_type": "markdown",
   "metadata": {},
   "source": [
    "### 3- Reading artifical datasets"
   ]
  },
  {
   "cell_type": "code",
   "execution_count": 2,
   "metadata": {},
   "outputs": [],
   "source": [
    "# Generate data (swiss roll dataset)\n",
    "n_samples = 100000\n",
    "noise = 0.05\n",
    "X1, _ = make_swiss_roll(n_samples, noise)\n",
    "X2, _ = make_swiss_roll(n_samples, noise)\n",
    "X3, _ = make_swiss_roll(n_samples, noise)\n",
    "\n",
    "# Shrink second dimension\n",
    "X1[:, 1] *= .1\n",
    "X2[:, 1] *= .1\n",
    "X3[:, 1] *= .1\n",
    "\n",
    "def rotation(theta, R = np.zeros((3,3))):\n",
    "    cx,cy,cz = np.cos(theta)\n",
    "    sx,sy,sz = np.sin(theta)\n",
    "    R.flat = (cx*cz - sx*cy*sz, cx*sz + sx*cy*cz, sx*sy,\n",
    "        -sx*cz - cx*cy*sz, -sx*sz + cx*cy*cz,\n",
    "        cx*sy, sy*sz, -sy*cz, cy)\n",
    "    return R\n",
    "\n",
    "R2 = rotation((0,np.pi/4,np.pi/4))\n",
    "R3 = rotation((np.pi/3,np.pi/3,0))\n",
    "\n",
    "X= np.concatenate((X1,2+X2.dot(R2),4+X3.dot(R3)))\n",
    "#X= np.concatenate((X1,2+X2.dot(R2))\n",
    "\n",
    "y1 = np.ones((n_samples))\n",
    "y2 = 2*np.ones((n_samples))\n",
    "y3 = 3*np.ones((n_samples))\n",
    "Y = np.concatenate((y1,y2,y3))\n",
    "#Y = np.concatenate((y1,y2))\n",
    "\n",
    "x_tr, x_tes, y_tr, y_tes = train_test_split(\n",
    "    X, Y, test_size=0.33, random_state=88)\n",
    "\n",
    "scaler = StandardScaler()\n",
    "scaler.fit(x_tr)\n",
    "x_tr = scaler.transform(x_tr)\n",
    "x_tes = scaler.transform(x_tes)\n"
   ]
  },
  {
   "cell_type": "markdown",
   "metadata": {},
   "source": [
    "## Specifying Parameters"
   ]
  },
  {
   "cell_type": "code",
   "execution_count": 19,
   "metadata": {},
   "outputs": [
    {
     "name": "stdout",
     "output_type": "stream",
     "text": [
      "43500 14500 9\n"
     ]
    },
    {
     "data": {
      "text/plain": [
       "5"
      ]
     },
     "execution_count": 19,
     "metadata": {},
     "output_type": "execute_result"
    }
   ],
   "source": [
    "## # .... parameters\n",
    "sigma = 0.002\n",
    "gamma = 1/(2*(sigma**2))\n",
    "mu= 1/(3*sigma);\n",
    "m = x_tr.shape[0]\n",
    "n = x_tr.shape[1]\n",
    "\n",
    "# classes\n",
    "classes = np.unique(y_tr)\n",
    "n_classes = len(classes)\n",
    "\n",
    "# compute l\n",
    "r = math.floor(n/2)+1\n",
    "if(r%2==0):\n",
    "    r = r+1\n",
    "l = r\n",
    "\n",
    "m_test = len(y_tes)\n",
    "print( m ,m_test,n)\n",
    "l"
   ]
  },
  {
   "cell_type": "markdown",
   "metadata": {},
   "source": [
    "# Training the Sparse RBF Kernel"
   ]
  },
  {
   "cell_type": "code",
   "execution_count": 8,
   "metadata": {},
   "outputs": [],
   "source": [
    "%%cython\n",
    "from libc.math cimport exp \n",
    "\n",
    "cdef extern from \"math.h\":\n",
    "    double sqrt(double m)\n",
    "    \n",
    "def sp_rbf(double[:,:] X, double mu,double gamma,double l ):\n",
    "    cdef list data = []\n",
    "    cdef list row =[]\n",
    "    cdef list col =[]\n",
    "    cdef int i,j,d\n",
    "    cdef double r = 0\n",
    "    cdef double yj\n",
    "    cdef int n1 = X.shape[1]\n",
    "    cdef int m1 = X.shape[0]\n",
    "    for i in range(m1):\n",
    "        for j in range(i,m1):\n",
    "            r =0\n",
    "            for d in range(n1):\n",
    "                    r += (X[i,d] - X[j, d]) ** 2\n",
    "            yj = 1-mu*sqrt(r)\n",
    "            if yj>0:\n",
    "                yj = (yj**l)*exp(-gamma*r) # =data # col = j # row i \n",
    "                data.append(yj)\n",
    "                col.append(j)\n",
    "                row.append(i)\n",
    "    return data,row,col\n",
    "\n"
   ]
  },
  {
   "cell_type": "code",
   "execution_count": 20,
   "metadata": {},
   "outputs": [
    {
     "name": "stdout",
     "output_type": "stream",
     "text": [
      "Time of computing the sparse kernel 16.382152318954468\n",
      "sparsity of the kernel 0.9991811304003171\n",
      "Sparsity of Matrix L 0.9995790181001454\n",
      "Total Training time  24.996933698654175\n"
     ]
    }
   ],
   "source": [
    "s = time.time()\n",
    "data,row,col = sp_rbf(x_tr,mu,gamma,l)\n",
    "K2 = csc_matrix((data, (row, col)), shape=(m, m))\n",
    "del data,row,col\n",
    "K2 = K2+K2.transpose()-diags([1],shape = (m,m))    \n",
    "e = time.time()\n",
    "print(\"Time of computing the sparse kernel\" ,e-s)\n",
    "print(\"sparsity of the kernel\" ,1-K2.count_nonzero()/m**2)\n",
    "total_time = e-s\n",
    "\n",
    "# Cholesky factorization\n",
    "f = cholesky(K2, beta=0.0001, mode='auto', ordering_method= 'amd', use_long=None)\n",
    "Ls1 = f.L()\n",
    "P = f.P()\n",
    "print(\"Sparsity of Matrix L\", 1-Ls1.count_nonzero()/m**2)\n",
    "\n",
    "class2 = False\n",
    "if(n_classes==2):\n",
    "    class2 = True\n",
    "    if(classes[0] == 1):\n",
    "        pos = y_tr==1\n",
    "        y_tr[pos] = -1\n",
    "        neg = y_tr==2\n",
    "        y_tr[neg] = 1\n",
    "        pos = y_tes==1\n",
    "        y_tes[pos] = -1\n",
    "        neg = y_tes==2\n",
    "        y_tes[neg] = 1\n",
    "\n",
    "# LibLinear Classifier\n",
    "clf = LinearSVC( C = 1,dual = False)\n",
    "clf.fit(Ls1,y_tr[P])\n",
    "w = clf.coef_.T\n",
    "b = clf.intercept_\n",
    "\n",
    "# Solving for lamdas\n",
    "\n",
    "if(class2 == True):\n",
    "    lamda = spsolve_triangular(Ls1.transpose().dot(diags(y_tr[P])), w,lower = False)\n",
    "else:\n",
    "    lamda = np.zeros((m,n_classes))\n",
    "    for i in range(n_classes):\n",
    "        pos = y_tr==classes[i]\n",
    "        y_tr_i = -np.ones(m)\n",
    "        y_tr_i[pos] = 1\n",
    "        lamda[:,i] = spsolve_triangular(Ls1.transpose().dot(diags(y_tr_i[P])), w[:,i],lower = False)\n",
    "e = time.time()\n",
    "total_time = e-s\n",
    "print(\"Total Training time \",total_time )"
   ]
  },
  {
   "cell_type": "markdown",
   "metadata": {},
   "source": [
    "# Testing using Sparse KERNEL"
   ]
  },
  {
   "cell_type": "code",
   "execution_count": 14,
   "metadata": {},
   "outputs": [],
   "source": [
    "%%cython\n",
    "from libc.math cimport exp \n",
    "\n",
    "cdef extern from \"math.h\":\n",
    "    double sqrt(double m)\n",
    "\n",
    "def sp_rbf_test(double[:,:] X_train,double[:,:] X_test, double mu,double gamma,double l ):\n",
    "    cdef list data = []\n",
    "    cdef list row =[]\n",
    "    cdef list col =[]\n",
    "    cdef int i,j,d\n",
    "    cdef double r = 0\n",
    "    cdef double yj\n",
    "    cdef int n1 = X_train.shape[1]\n",
    "    cdef int m_tr = X_train.shape[0]\n",
    "    cdef int m_tes = X_test.shape[0]\n",
    "    for i in range(m_tr):\n",
    "        for j in range(m_tes):\n",
    "            r =0\n",
    "            for d in range(n1):\n",
    "                    r += (X_train[i,d] - X_test[j, d]) ** 2\n",
    "            yj = 1-mu*sqrt(r)\n",
    "            if yj>0:\n",
    "                yj = (yj**l)*exp(-gamma*r) # =data # col = j # row i \n",
    "                data.append(yj)\n",
    "                col.append(j)\n",
    "                row.append(i)\n",
    "    return data,row,col"
   ]
  },
  {
   "cell_type": "code",
   "execution_count": 21,
   "metadata": {},
   "outputs": [
    {
     "name": "stdout",
     "output_type": "stream",
     "text": [
      "Accuracy of Sparse kernel 0.8964827586206896\n"
     ]
    }
   ],
   "source": [
    "data,row,col = sp_rbf_test(x_tr,x_tes,mu,gamma,l)\n",
    "K2_t = csc_matrix((data, (row, col)), shape=(m, m_test))\n",
    "del data,row,col\n",
    "\n",
    "if(class2 == True):\n",
    "    y_pred = np.sign(K2_t.T.dot(diags(y_tr).dot(lamda[P])) + b*np.ones((m_test,1)))\n",
    "else:\n",
    "    dec_fun = np.zeros((m_test,n_classes))\n",
    "    lamda = lamda[P]\n",
    "    for i in range(n_classes):\n",
    "        pos = y_tr==classes[i]\n",
    "        y_tr_i = -np.ones(m)\n",
    "        y_tr_i[pos] = 1\n",
    "        dec_fun[:,i] = K2_t.T.dot(diags(y_tr_i)).dot(lamda[:,i])  + b[i]*np.ones((m_test))\n",
    "    I = np.argmax(dec_fun,axis = 1)\n",
    "    y_pred = classes[I]\n",
    "acc = accuracy_score(y_pred,y_tes)\n",
    "print(\"Accuracy of Sparse kernel\",acc)"
   ]
  },
  {
   "cell_type": "markdown",
   "metadata": {},
   "source": [
    "# Training and Testing using RBF kernel in LibSVM"
   ]
  },
  {
   "cell_type": "code",
   "execution_count": 16,
   "metadata": {},
   "outputs": [
    {
     "name": "stdout",
     "output_type": "stream",
     "text": [
      "Time of RBF Kernel 101.36099028587341\n",
      "Accuracy of RBF kernel 0.9958620689655172\n",
      "Total Training time  70.41131258010864\n",
      "Accuracy of Sparse kernel 0.9166206896551724\n"
     ]
    }
   ],
   "source": [
    "#training and testing using RBF classifier ( LibSVM)\n",
    "start = time.time()\n",
    "clf_2 = SVC(C = 1,kernel = 'rbf',gamma = gamma)\n",
    "clf_2.fit(x_tr,y_tr)\n",
    "end = time.time()\n",
    "print(\"Time of RBF Kernel\",end - start)\n",
    "rbf_acc = clf_2.score(x_tes,y_tes)\n",
    "print(\"Accuracy of RBF kernel\",rbf_acc)\n",
    "print(\"Total Training time \",total_time )\n",
    "print(\"Accuracy of Sparse kernel\",acc)"
   ]
  },
  {
   "cell_type": "markdown",
   "metadata": {},
   "source": [
    "# Training and Testing using Liblinear classifier"
   ]
  },
  {
   "cell_type": "code",
   "execution_count": 17,
   "metadata": {
    "scrolled": true
   },
   "outputs": [
    {
     "name": "stdout",
     "output_type": "stream",
     "text": [
      "Time of Linear Kernel 2.324842929840088\n",
      "Accuracy of Linear kernel 0.9229655172413793\n"
     ]
    }
   ],
   "source": [
    "start = time.time()\n",
    "clf_3 = LinearSVC(C = 1)\n",
    "clf_3.fit(x_tr,y_tr)\n",
    "end = time.time()\n",
    "print(\"Time of Linear Kernel\",end - start)\n",
    "lin_acc = clf_3.score(x_tes,y_tes)\n",
    "print(\"Accuracy of Linear kernel\",lin_acc)"
   ]
  }
 ],
 "metadata": {
  "kernelspec": {
   "display_name": "Python 3",
   "language": "python",
   "name": "python3"
  },
  "language_info": {
   "codemirror_mode": {
    "name": "ipython",
    "version": 3
   },
   "file_extension": ".py",
   "mimetype": "text/x-python",
   "name": "python",
   "nbconvert_exporter": "python",
   "pygments_lexer": "ipython3",
   "version": "3.6.7"
  }
 },
 "nbformat": 4,
 "nbformat_minor": 2
}
